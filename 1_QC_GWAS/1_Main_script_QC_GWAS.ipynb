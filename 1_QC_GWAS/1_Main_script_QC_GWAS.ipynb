{
 "cells": [
  {
   "cell_type": "markdown",
   "id": "a27d16b0",
   "metadata": {},
   "source": [
    "# Explanation of the main script\n",
    "\n",
    "This tutorial uses freely available HapMap data: `hapmap3_r3_b36_fwd.consensus.qc`. We simulated a binary outcome measure (i.e., a binary phenotypic trait) and added this to the dataset. The outcome measure was only simulated for the founders in the HapMap data. This data set will be referred to as `HapMap_3_r3_1`. \n",
    "\n",
    "The HapMap data, without our simulated outcome measure, can also be obtained from http://hapmap.ncbi.nlm.nih.gov/downloads/genotypes/2010-05_phaseIII/plink_format/.\n",
    "\n",
    "It is essential for the execution of the tutorial that that all scripts belonging to this tutorial are in the same directory on your UNIX workstation.\n",
    "\n",
    "Many scripts include comments which explain how these scripts work. Note, in order to complete the tutorial it is essential to execute all commands in this tutorial.\n",
    "\n",
    "This script can also be used for your own data analysis, to use it as such, replace the name of the HapMap file with the name of your own data file. \n",
    "\n",
    "Furthermore, this script is based on a binary outcome measure, and is therefore not applicable for quantitative outcome measures (this would require some adaptations)\n",
    "\n",
    "Note, most GWAS studies are performed on an ethnic homogenous population, in which population outliers are removed. The HapMap data, used for this tutorial, contains multiple distinct ethnic groups, which makes it problematic for analysis.\n",
    "\n",
    "Therefore, we have selected only the EUR individuals of the complete HapMap sample for the tutorials 1-3. This selection is already performed in the `HapMap_3_r3_1` file from our GitHub page.\n",
    "\n",
    "The Rscripts used in this tutorial are all executed from the Unix command line.\n",
    "\n",
    "Therefore, this tutorial and the other tutorials from our GitHub page, can be completed simply by copy-and-pasting all commands from the 'main scripts' into the Unix terminal.\n",
    "\n",
    "For a thorough theoretical explanation of all QC steps we refer to the article accompanying this tutorial entitled \"A tutorial on conducting Genome-Wide-Association Studies: Quality control and statistical analysis (https://www.ncbi.nlm.nih.gov/pubmed/29484742)."
   ]
  },
  {
   "cell_type": "markdown",
   "id": "4bebbb11",
   "metadata": {},
   "source": [
    "## Setup\n",
    "\n",
    "> **Author's note:** below is some setup code I need to make the notebook shine a bit more. Some imports and styling for the plots later on."
   ]
  },
  {
   "cell_type": "code",
   "execution_count": null,
   "id": "d8df3b35",
   "metadata": {},
   "outputs": [],
   "source": [
    "import matplotlib.pyplot as plt\n",
    "import pandas as pd\n",
    "\n",
    "plt.style.use('ggplot')"
   ]
  },
  {
   "cell_type": "markdown",
   "id": "ceb83b4f",
   "metadata": {},
   "source": [
    "## Step 1"
   ]
  },
  {
   "cell_type": "markdown",
   "id": "6f1096f3",
   "metadata": {},
   "source": [
    "Investigate missingness per individual and per SNP and make histograms.\n",
    "\n",
    "> **Author's note:** Info about the columns of:\n",
    ">    - the `.bed` file can be found here https://www.cog-genomics.org/plink/1.9/formats#bed\n",
    ">    - and `.bim` file can be found here https://www.cog-genomics.org/plink/1.9/formats#bim\n",
    ">    - and `.fam` file can be found here https://www.cog-genomics.org/plink/1.9/formats#fam"
   ]
  },
  {
   "cell_type": "code",
   "execution_count": null,
   "id": "bddb363d",
   "metadata": {},
   "outputs": [],
   "source": [
    "!plink --bfile HapMap_3_r3_1 --missing"
   ]
  },
  {
   "cell_type": "markdown",
   "id": "2bdf696b",
   "metadata": {},
   "source": [
    "Output: `plink.imiss` and `plink.lmiss`, these files show respectively the proportion of missing SNPs per individual and the proportion of missing individuals per SNP.\n",
    "\n",
    "> **Author's note:** Info about the columns of:\n",
    ">    - the `.imiss` file can be found here https://www.cog-genomics.org/plink/1.9/formats#imiss\n",
    ">    - and `.lmiss` file can be found here https://www.cog-genomics.org/plink/1.9/formats#lmiss"
   ]
  },
  {
   "cell_type": "markdown",
   "id": "33d1eafb",
   "metadata": {},
   "source": [
    "Generate plots to visualize the missingness results."
   ]
  },
  {
   "cell_type": "code",
   "execution_count": null,
   "id": "08e5cc6e",
   "metadata": {},
   "outputs": [],
   "source": [
    "# Read data into DataFrame.\n",
    "indmiss = pd.read_csv('plink.imiss', sep='\\s+')\n",
    "snpmiss = pd.read_csv('plink.lmiss', sep='\\s+')\n",
    "\n",
    "# Plotting.\n",
    "fig, axs = plt.subplots(1, 2, figsize=(15, 5))  #  Side-by-side figure.\n",
    "\n",
    "indmiss[['F_MISS']].plot(\n",
    "    kind='hist',\n",
    "    title='Histogram individual missingness',\n",
    "    ax=axs[0])\n",
    "\n",
    "snpmiss[['F_MISS']].plot(\n",
    "    kind='hist',\n",
    "    title='Histogram sample missingness',\n",
    "    ax=axs[1])"
   ]
  },
  {
   "cell_type": "markdown",
   "id": "9ee5f880",
   "metadata": {},
   "source": [
    "Delete SNPs and individuals with high levels of missingness, explanation of this and all following steps can be found in box 1 and table 1 of the article mentioned in the comments of this script.\n",
    "\n",
    "The following two QC commands will not remove any SNPs or individuals. However, it is good practice to start the QC with these non-stringent thresholds.  "
   ]
  },
  {
   "cell_type": "markdown",
   "id": "3185c9bc",
   "metadata": {},
   "source": [
    "Delete SNPs with missingness $>0.2$."
   ]
  },
  {
   "cell_type": "code",
   "execution_count": null,
   "id": "ad2bf92a",
   "metadata": {},
   "outputs": [],
   "source": [
    "!plink --bfile HapMap_3_r3_1 --geno 0.2 --make-bed --out HapMap_3_r3_2"
   ]
  },
  {
   "cell_type": "markdown",
   "id": "2c012d9d",
   "metadata": {},
   "source": [
    "Delete individuals with missingness $>0.2$."
   ]
  },
  {
   "cell_type": "code",
   "execution_count": null,
   "id": "66f6a7d2",
   "metadata": {},
   "outputs": [],
   "source": [
    "!plink --bfile HapMap_3_r3_2 --mind 0.2 --make-bed --out HapMap_3_r3_3"
   ]
  },
  {
   "cell_type": "markdown",
   "id": "637b7830",
   "metadata": {},
   "source": [
    "Delete SNPs with missingness $>0.02$."
   ]
  },
  {
   "cell_type": "code",
   "execution_count": null,
   "id": "7666fde4",
   "metadata": {},
   "outputs": [],
   "source": [
    "!plink --bfile HapMap_3_r3_3 --geno 0.02 --make-bed --out HapMap_3_r3_4"
   ]
  },
  {
   "cell_type": "markdown",
   "id": "06dd92c2",
   "metadata": {},
   "source": [
    "Delete individuals with missingness $>0.02$."
   ]
  },
  {
   "cell_type": "code",
   "execution_count": null,
   "id": "cd768932",
   "metadata": {},
   "outputs": [],
   "source": [
    "!plink --bfile HapMap_3_r3_4 --mind 0.02 --make-bed --out HapMap_3_r3_5"
   ]
  },
  {
   "cell_type": "markdown",
   "id": "d9ae953a",
   "metadata": {},
   "source": [
    "## Step 2\n",
    "\n",
    "Check for sex discrepancy.\n",
    "\n",
    "Subjects who were a priori determined as females must have a F value of $<0.2$, and subjects who were a priori determined as males must have a F value $>0.8$. This F value is based on the X chromosome inbreeding (homozygosity) estimate.\n",
    "\n",
    "Subjects who do not fulfil these requirements are flagged \"PROBLEM\" by PLINK."
   ]
  },
  {
   "cell_type": "code",
   "execution_count": null,
   "id": "dd475e7c",
   "metadata": {},
   "outputs": [],
   "source": [
    "!plink --bfile HapMap_3_r3_5 --check-sex"
   ]
  },
  {
   "cell_type": "markdown",
   "id": "93fbd93c",
   "metadata": {},
   "source": [
    "> **Author's note:** Info about the columns of the `.sexcheck` file can be found here https://www.cog-genomics.org/plink/1.9/formats#sexcheck"
   ]
  },
  {
   "cell_type": "markdown",
   "id": "cae7a1a1",
   "metadata": {},
   "source": [
    "Generate plots to visualize the sex-check results."
   ]
  },
  {
   "cell_type": "code",
   "execution_count": null,
   "id": "05035f3d",
   "metadata": {},
   "outputs": [],
   "source": [
    "# Read data into DataFrame.\n",
    "gender = pd.read_csv('plink.sexcheck', sep='\\s+')\n",
    "\n",
    "# Plotting.\n",
    "fig, axs = plt.subplots(2, 2, figsize=(15, 10))  #  4x4 figure.\n",
    "\n",
    "gender['F'].plot(\n",
    "    kind='hist',\n",
    "    title='Gender',\n",
    "    ax=axs[0, 0])\n",
    "\n",
    "gender.loc[lambda d: d['PEDSEX']==1, 'F'].plot(\n",
    "    kind='hist',\n",
    "    title='Men',\n",
    "    ax=axs[0, 1])\n",
    "\n",
    "gender.loc[lambda d: d['PEDSEX']==2, 'F'].plot(\n",
    "    kind='hist',\n",
    "    title='Female',\n",
    "    ax=axs[1, 0])"
   ]
  },
  {
   "cell_type": "markdown",
   "id": "1f596f89",
   "metadata": {},
   "source": [
    "These checks indicate that there is one woman with a sex discrepancy, F value of 0.99. (When using other datasets often a few discrepancies will be found)."
   ]
  },
  {
   "cell_type": "markdown",
   "id": "bb0cd40b",
   "metadata": {},
   "source": [
    "The following two scripts can be used to deal with individuals with a sex discrepancy.\n",
    "\n",
    "Note, please use one of the two options below to generate the bfile `hapmap_r23a_6`, this file we will use in the next step of this tutorial."
   ]
  },
  {
   "cell_type": "markdown",
   "id": "f1b86a2d",
   "metadata": {},
   "source": [
    "1\\) Delete individuals with sex discrepancy.\n",
    "\n",
    "This command generates a list of individuals with the status \"PROBLEM\"."
   ]
  },
  {
   "cell_type": "code",
   "execution_count": null,
   "id": "5bb0fc9f",
   "metadata": {},
   "outputs": [],
   "source": [
    "!grep \"PROBLEM\" plink.sexcheck| awk '{print$1,$2}'> sex_discrepancy.txt"
   ]
  },
  {
   "cell_type": "markdown",
   "id": "3dfca767",
   "metadata": {},
   "source": [
    "This command removes the list of individuals with the status \"PROBLEM\"."
   ]
  },
  {
   "cell_type": "code",
   "execution_count": null,
   "id": "1749b5b7",
   "metadata": {},
   "outputs": [],
   "source": [
    "!plink --bfile HapMap_3_r3_5 --remove sex_discrepancy.txt --make-bed --out HapMap_3_r3_6 "
   ]
  },
  {
   "cell_type": "markdown",
   "id": "f82b2a5b",
   "metadata": {},
   "source": [
    "2\\) impute-sex.\n",
    "\n",
    "This imputes the sex based on the genotype information into your data set.\n",
    "\n",
    "> **Author's note:** I think the following was meant to be run exclusively from the cell above. You either impute the problematic sample's sex or you remove the sample entirely."
   ]
  },
  {
   "cell_type": "code",
   "execution_count": null,
   "id": "e6f72edf",
   "metadata": {},
   "outputs": [],
   "source": [
    "# !plink --bfile HapMap_3_r3_5 --impute-sex --make-bed --out HapMap_3_r3_6"
   ]
  },
  {
   "cell_type": "markdown",
   "id": "f5f6d01c",
   "metadata": {},
   "source": [
    "## Step 3\n",
    "\n",
    "Generate a bfile with autosomal SNPs only and delete SNPs with a low minor allele frequency (MAF)."
   ]
  },
  {
   "cell_type": "markdown",
   "id": "156e651d",
   "metadata": {},
   "source": [
    "Select autosomal SNPs only (i.e., from chromosomes 1 to 22)."
   ]
  },
  {
   "cell_type": "code",
   "execution_count": null,
   "id": "b0cfaab7",
   "metadata": {},
   "outputs": [],
   "source": [
    "!awk '{ if ($1 >= 1 && $1 <= 22) print $2 }' HapMap_3_r3_6.bim > snp_1_22.txt\n",
    "!plink --bfile HapMap_3_r3_6 --extract snp_1_22.txt --make-bed --out HapMap_3_r3_7"
   ]
  },
  {
   "cell_type": "markdown",
   "id": "472dce1a",
   "metadata": {},
   "source": [
    "Generate a plot of the MAF distribution.\n",
    "\n",
    "> **Author's note:** Info about the columns of the `.frq` can be found here https://www.cog-genomics.org/plink/1.9/formats#frq"
   ]
  },
  {
   "cell_type": "code",
   "execution_count": null,
   "id": "a60ae895",
   "metadata": {},
   "outputs": [],
   "source": [
    "!plink --bfile HapMap_3_r3_7 --freq --out MAF_check"
   ]
  },
  {
   "cell_type": "code",
   "execution_count": null,
   "id": "bb193c4f",
   "metadata": {},
   "outputs": [],
   "source": [
    "# Read data into DataFrame.\n",
    "maf_freq = pd.read_csv('MAF_check.frq', sep='\\s+')\n",
    "\n",
    "# Plotting.\n",
    "maf_freq['MAF'].plot(\n",
    "    kind='hist',\n",
    "    title='MAF distribution')"
   ]
  },
  {
   "cell_type": "markdown",
   "id": "bdd95153",
   "metadata": {},
   "source": [
    "Remove SNPs with a low MAF frequency."
   ]
  },
  {
   "cell_type": "code",
   "execution_count": null,
   "id": "21c2d961",
   "metadata": {},
   "outputs": [],
   "source": [
    "!plink --bfile HapMap_3_r3_7 --maf 0.05 --make-bed --out HapMap_3_r3_8"
   ]
  },
  {
   "cell_type": "markdown",
   "id": "93c5faad",
   "metadata": {},
   "source": [
    "1073226 SNPs are left.\n",
    "\n",
    "A conventional MAF threshold for a regular GWAS is between 0.01 or 0.05, depending on sample size."
   ]
  },
  {
   "cell_type": "markdown",
   "id": "f02b6a23",
   "metadata": {},
   "source": [
    "## Step 4"
   ]
  },
  {
   "cell_type": "markdown",
   "id": "cae21d40",
   "metadata": {},
   "source": [
    "Delete SNPs which are not in Hardy-Weinberg equilibrium (HWE)."
   ]
  },
  {
   "cell_type": "markdown",
   "id": "a7a43433",
   "metadata": {},
   "source": [
    "Check the distribution of HWE p-values of all SNPs.\n",
    "\n",
    "> **Author's note:** Info about the columns of the `.hwe` can be found here https://www.cog-genomics.org/plink/1.9/formats#hwe"
   ]
  },
  {
   "cell_type": "code",
   "execution_count": null,
   "id": "b1f44200",
   "metadata": {},
   "outputs": [],
   "source": [
    "!plink --bfile HapMap_3_r3_8 --hardy"
   ]
  },
  {
   "cell_type": "markdown",
   "id": "045cbc9b",
   "metadata": {},
   "source": [
    "Selecting SNPs with HWE *p*-value below 0.00001, required for one of the two plot generated by the next *cell*, allows to zoom in on strongly deviating SNPs. "
   ]
  },
  {
   "cell_type": "code",
   "execution_count": null,
   "id": "5af23685",
   "metadata": {},
   "outputs": [],
   "source": [
    "!awk '{ if ($9 <0.00001) print $0 }' plink.hwe>plinkzoomhwe.hwe"
   ]
  },
  {
   "cell_type": "code",
   "execution_count": null,
   "id": "17e86b65",
   "metadata": {},
   "outputs": [],
   "source": [
    "# Read data into DataFrame.\n",
    "hwe = pd.read_csv('plink.hwe', sep='\\s+')\n",
    "hwe_zoom = pd.read_csv('plinkzoomhwe.hwe', header=None, sep='\\s+')\n",
    "hwe_zoom.columns = hwe.columns\n",
    "\n",
    "fig, axs = plt.subplots(1, 2, figsize=(15, 5))\n",
    "# Plotting.\n",
    "hwe['P'].plot(\n",
    "    kind='hist',\n",
    "    title='Histrogram HWE',\n",
    "    ax=axs[0])\n",
    "\n",
    "hwe_zoom['P'].plot(\n",
    "    kind='hist',\n",
    "    title='Histogram HWE: strongly deviating SNPs only',\n",
    "    ax=axs[1])"
   ]
  },
  {
   "cell_type": "markdown",
   "id": "c284ca1f",
   "metadata": {},
   "source": [
    "By default the `--hwe` option in plink only filters for controls.\n",
    "\n",
    "Therefore, we use two steps, first we use a stringent HWE threshold for controls, followed by a less stringent threshold for the case data."
   ]
  },
  {
   "cell_type": "code",
   "execution_count": null,
   "id": "4fc4c2d5",
   "metadata": {},
   "outputs": [],
   "source": [
    "!plink --bfile HapMap_3_r3_8 --hwe 1e-6 --make-bed --out HapMap_hwe_filter_step1"
   ]
  },
  {
   "cell_type": "markdown",
   "id": "5d3b9901",
   "metadata": {},
   "source": [
    "The HWE threshold for the cases filters out only SNPs which deviate extremely from HWE. \n",
    "\n",
    "This second HWE step only focusses on cases because in the controls all SNPs with a HWE *p*-value < hwe `1e-6` were already removed"
   ]
  },
  {
   "cell_type": "code",
   "execution_count": null,
   "id": "98dea93c",
   "metadata": {},
   "outputs": [],
   "source": [
    "!plink --bfile HapMap_hwe_filter_step1 --hwe 1e-10 --hwe-all --make-bed --out HapMap_3_r3_9"
   ]
  },
  {
   "cell_type": "markdown",
   "id": "e0913143",
   "metadata": {},
   "source": [
    "Theoretical background for this step is given in our accompanying article: https://www.ncbi.nlm.nih.gov/pubmed/29484742 ."
   ]
  },
  {
   "cell_type": "markdown",
   "id": "ade4be57",
   "metadata": {},
   "source": [
    "## Step 5\n",
    "\n",
    "Generate a plot of the distribution of the heterozygosity rate of your subjects.\n",
    "\n",
    "And remove individuals with a heterozygosity rate deviating more than 3 sd from the mean."
   ]
  },
  {
   "cell_type": "markdown",
   "id": "964ba085",
   "metadata": {},
   "source": [
    "Checks for heterozygosity are performed on a set of SNPs which are not highly correlated.\n",
    "\n",
    "Therefore, to generate a list of non-(highly)correlated SNPs, we exclude high inversion regions (inversion.txt [High LD regions]) and prune the SNPs using the command `--indep-pairwise`.\n",
    "\n",
    "The parameters `50 5 0.2` stand respectively for: the window size, the number of SNPs to shift the window at each step, and the multiple correlation coefficient for a SNP being regressed on all other SNPs simultaneously.\n",
    "\n",
    "> **Author's note:** Info about the columns of the `.prune.in` and `.prune.out` file can be found here https://www.cog-genomics.org/plink/1.9/ld\n",
    "\n",
    "> <span style=\"color: #e67e22\">**Critical implementation note:**</span> the original script has the argument `--range` in the cell below. Newer versions of PLINK v1.9 have deprecated this and therefore doesn't work as expected. through my readings, it seems that this argument defaults to a target of $[0, \\infty]$ so I think it's safe to remove it. I did try `--extract range` but it required a file of which the contents I am unsure."
   ]
  },
  {
   "cell_type": "code",
   "execution_count": null,
   "id": "348d5835",
   "metadata": {},
   "outputs": [],
   "source": [
    "!plink --bfile HapMap_3_r3_9 --exclude inversion.txt --indep-pairwise 50 5 0.2 --out indepSNP"
   ]
  },
  {
   "cell_type": "markdown",
   "id": "c99302b1",
   "metadata": {},
   "source": [
    "Note, don't delete the file `indepSNP.prune.in`, we will use this file in later steps of the tutorial."
   ]
  },
  {
   "cell_type": "code",
   "execution_count": null,
   "id": "83fe7ed6",
   "metadata": {},
   "outputs": [],
   "source": [
    "!plink --bfile HapMap_3_r3_9 --extract indepSNP.prune.in --het --out R_check"
   ]
  },
  {
   "cell_type": "markdown",
   "id": "014fc6f2",
   "metadata": {},
   "source": [
    "This file contains your pruned data set."
   ]
  },
  {
   "cell_type": "markdown",
   "id": "095a7067",
   "metadata": {},
   "source": [
    "Plot of the heterozygosity rate distribution\n",
    "\n",
    "> **Author's note:** Info about the columns of the `.het` file can be found here https://www.cog-genomics.org/plink/1.9/formats#het"
   ]
  },
  {
   "cell_type": "code",
   "execution_count": null,
   "id": "2b166121",
   "metadata": {},
   "outputs": [],
   "source": [
    "# Read data into DataFrame.\n",
    "het = pd.read_csv('R_check.het', sep='\\s+')\n",
    "\n",
    "# Plotting.\n",
    "het['HET_RATE'] = (het['N(NM)'] - het['O(HOM)']) / het['N(NM)']\n",
    "het['HET_RATE'].plot(\n",
    "    kind='hist',\n",
    "    title='Heterozygosity rate')"
   ]
  },
  {
   "cell_type": "markdown",
   "id": "97cb554a",
   "metadata": {},
   "source": [
    "The following code generates a list of individuals who deviate more than 3 standard deviations from the heterozygosity rate mean.\n",
    "\n",
    "For data manipulation we recommend using UNIX. However, when performing statistical calculations *Python* might be more convenient, hence the use of the *Python* for this step:"
   ]
  },
  {
   "cell_type": "code",
   "execution_count": null,
   "id": "df8383de",
   "metadata": {},
   "outputs": [],
   "source": [
    "mean = het['HET_RATE'].mean()\n",
    "sdev = het['HET_RATE'].std()\n",
    "het_fail = het.loc[lambda d: (\n",
    "    (d['HET_RATE'] < (mean - 3*sdev)) |\n",
    "    (d['HET_RATE'] > (mean + 3*sdev))\n",
    ")]\n",
    "het_fail['HET_DST'] = (het_fail['HET_RATE'] - het_fail['HET_RATE'].mean()) / (het_fail['HET_RATE'].std())\n",
    "het_fail.to_csv('fail-het-qc.txt', sep='\\t', index=False)"
   ]
  },
  {
   "cell_type": "markdown",
   "id": "5a3118ce",
   "metadata": {},
   "source": [
    "Output of the command above: `fail-het-qc.txt`."
   ]
  },
  {
   "cell_type": "markdown",
   "id": "1718e7de",
   "metadata": {},
   "source": [
    "When using our example data/the HapMap data this list contains 2 individuals (i.e., two individuals have a heterozygosity rate deviating more than 3 SD's from the mean).\n",
    "\n",
    "Adapt this file to make it compatible for PLINK, by removing the header and selecting only the first two columns.\n",
    "\n",
    "> <span style=\"color: #3498db\">**Implementation note:**</span> I've totally changed how things are done in this subsection of the pipeline. It achieves the same thing ultimately but just makes more sense to me personally."
   ]
  },
  {
   "cell_type": "code",
   "execution_count": null,
   "id": "6bd7324b",
   "metadata": {},
   "outputs": [],
   "source": [
    "!tail +2 fail-het-qc.txt | cut -f 1,2 > het_fail_ind.txt"
   ]
  },
  {
   "cell_type": "markdown",
   "id": "9c4d98b3",
   "metadata": {},
   "source": [
    "Remove heterozygosity rate outliers."
   ]
  },
  {
   "cell_type": "code",
   "execution_count": null,
   "id": "0ef031a9",
   "metadata": {},
   "outputs": [],
   "source": [
    "!plink --bfile HapMap_3_r3_9 --remove het_fail_ind.txt --make-bed --out HapMap_3_r3_10"
   ]
  },
  {
   "cell_type": "markdown",
   "id": "095e5de9",
   "metadata": {},
   "source": [
    "## Step 6"
   ]
  },
  {
   "cell_type": "markdown",
   "id": "5eb0decc",
   "metadata": {},
   "source": [
    "It is essential to check datasets you analyse for cryptic relatedness.\n",
    "\n",
    "Assuming a random population sample we are going to exclude all individuals above the pihat threshold of 0.2 in this tutorial."
   ]
  },
  {
   "cell_type": "markdown",
   "id": "44ccb7d9",
   "metadata": {},
   "source": [
    "Check for relationships between individuals with a pihat > 0.2.\n",
    "\n",
    " **Author's note:** Info about the columns of the `.genome` file can be found here https://www.cog-genomics.org/plink/1.9/formats#genome"
   ]
  },
  {
   "cell_type": "code",
   "execution_count": null,
   "id": "93240bd8",
   "metadata": {},
   "outputs": [],
   "source": [
    "!plink --bfile HapMap_3_r3_10 --extract indepSNP.prune.in --genome --min 0.2 --out pihat_min0.2"
   ]
  },
  {
   "cell_type": "markdown",
   "id": "e0cf663f",
   "metadata": {},
   "source": [
    "The HapMap dataset is known to contain parent-offspring relations.\n",
    "\n",
    "The following commands will visualize specifically these parent-offspring relations, using the z values. "
   ]
  },
  {
   "cell_type": "code",
   "execution_count": null,
   "id": "684df6e4",
   "metadata": {},
   "outputs": [],
   "source": [
    "!awk '{ if ($8 >0.9) print $0 }' pihat_min0.2.genome>zoom_pihat.genome"
   ]
  },
  {
   "cell_type": "markdown",
   "id": "bf144c2b",
   "metadata": {},
   "source": [
    "Generate a plot to assess the type of relationship."
   ]
  },
  {
   "cell_type": "code",
   "execution_count": null,
   "id": "ea52142b",
   "metadata": {},
   "outputs": [],
   "source": [
    "# Read data into DataFrame.\n",
    "relatedness = pd.read_csv('pihat_min0.2.genome', sep='\\s+')\n",
    "relatedness_zoom = pd.read_csv('zoom_pihat.genome', sep='\\s+')\n",
    "\n",
    "# Plotting.\n",
    "fig, axs = plt.subplots(2, 2, figsize=(15, 10))  #  4x4 figure.\n",
    "\n",
    "# Top-left plot.\n",
    "axs[0, 0].scatter(\n",
    "    relatedness.loc[lambda d: d['RT'] == 'PO', 'Z0'],\n",
    "    relatedness.loc[lambda d: d['RT'] == 'PO', 'Z1'],\n",
    "    label='PO')\n",
    "axs[0, 0].scatter(\n",
    "    relatedness.loc[lambda d: d['RT'] == 'UN', 'Z0'],\n",
    "    relatedness.loc[lambda d: d['RT'] == 'UN', 'Z1'],\n",
    "    label='UN')\n",
    "axs[0, 0].set_xlim(0, 1)\n",
    "axs[0, 0].set_ylim(0, 1)\n",
    "axs[0, 0].legend()\n",
    "\n",
    "# Top-right plot.\n",
    "axs[0, 1].scatter(\n",
    "    relatedness_zoom.loc[lambda d: d['RT'] == 'PO', 'Z0'],\n",
    "    relatedness_zoom.loc[lambda d: d['RT'] == 'PO', 'Z1'],\n",
    "    label='PO')\n",
    "axs[0, 1].set_xlim(0, 0.015)\n",
    "axs[0, 1].set_ylim(0.975, 1)\n",
    "\n",
    "# Bottom-left plot.\n",
    "relatedness['PI_HAT'].plot(\n",
    "    kind='hist',\n",
    "    ax=axs[1, 0])"
   ]
  },
  {
   "cell_type": "markdown",
   "id": "b2d9b1a0",
   "metadata": {},
   "source": [
    "The generated plots show a considerable amount of related individuals (explentation plot; PO = parent-offspring, UN = unrelated individuals) in the Hapmap data, this is expected since the dataset was constructed as such.\n",
    "\n",
    "Normally, family based data should be analyzed using specific family based methods. In this tutorial, for demonstrative purposes, we treat the relatedness as cryptic relatedness in a random population sample."
   ]
  },
  {
   "cell_type": "markdown",
   "id": "841b5381",
   "metadata": {},
   "source": [
    "In this tutorial, we aim to remove all 'relatedness' from our dataset.\n",
    "\n",
    "To demonstrate that the majority of the relatedness was due to parent-offspring we only include founders (individuals without parents in the dataset)."
   ]
  },
  {
   "cell_type": "code",
   "execution_count": null,
   "id": "6857b017",
   "metadata": {},
   "outputs": [],
   "source": [
    "!plink --bfile HapMap_3_r3_10 --filter-founders --make-bed --out HapMap_3_r3_11"
   ]
  },
  {
   "cell_type": "markdown",
   "id": "aacf6b77",
   "metadata": {},
   "source": [
    "Now we will look again for individuals with a pihat >0.2."
   ]
  },
  {
   "cell_type": "code",
   "execution_count": null,
   "id": "97a870e0",
   "metadata": {},
   "outputs": [],
   "source": [
    "!plink --bfile HapMap_3_r3_11 --extract indepSNP.prune.in --genome --min 0.2 --out pihat_min0.2_in_founders"
   ]
  },
  {
   "cell_type": "markdown",
   "id": "a3c807af",
   "metadata": {},
   "source": [
    "The file `pihat_min0.2_in_founders.genome` shows that, after exclusion of all non-founders, only 1 individual pair with a pihat greater than 0.2 remains in the HapMap data.\n",
    "This is likely to be a full sib or DZ twin pair based on the Z values. Noteworthy, they were not given the same family identity (FID) in the HapMap data."
   ]
  },
  {
   "cell_type": "markdown",
   "id": "64fe5d50",
   "metadata": {},
   "source": [
    "For each pair of 'related' individuals with a pihat > 0.2, we recommend to remove the individual with the lowest call rate. "
   ]
  },
  {
   "cell_type": "code",
   "execution_count": null,
   "id": "1ea0cbdc",
   "metadata": {},
   "outputs": [],
   "source": [
    "!plink --bfile HapMap_3_r3_11 --missing"
   ]
  },
  {
   "cell_type": "markdown",
   "id": "9c77b92f",
   "metadata": {},
   "source": [
    "Use `less` or `head` to check which individual has the highest call rate in the 'related pair'."
   ]
  },
  {
   "cell_type": "markdown",
   "id": "e45e5c6a",
   "metadata": {},
   "source": [
    "Generate a list of FID and IID of the individual(s) with a Pihat above 0.2, to check who had the lower call rate of the pair.\n",
    "\n",
    "In our dataset the individual 13291  NA07045 had the lower call rate."
   ]
  },
  {
   "cell_type": "code",
   "execution_count": null,
   "id": "69216549",
   "metadata": {},
   "outputs": [],
   "source": [
    "!echo '13291\\tNA07045' > 0.2_low_call_rate_pihat.txt"
   ]
  },
  {
   "cell_type": "markdown",
   "id": "3e30fc02",
   "metadata": {},
   "source": [
    "Delete the individuals with the lowest call rate in 'related' pairs with a pihat > 0.2 "
   ]
  },
  {
   "cell_type": "code",
   "execution_count": null,
   "id": "b1653667",
   "metadata": {},
   "outputs": [],
   "source": [
    "!plink --bfile HapMap_3_r3_11 --remove 0.2_low_call_rate_pihat.txt --make-bed --out HapMap_3_r3_12"
   ]
  },
  {
   "cell_type": "markdown",
   "id": "df586a8c",
   "metadata": {},
   "source": [
    "---"
   ]
  },
  {
   "cell_type": "markdown",
   "id": "b9f2a8b2",
   "metadata": {},
   "source": [
    "## Congratulations\n",
    "\n",
    "You've just succesfully completed the first tutorial! You are now able to conduct a proper genetic QC. \n",
    "\n",
    "For the next tutorial, using the *notebook*: `2_Main_script_MDS.ipynb`, you need the following files:\n",
    "\n",
    "- The bfile `HapMap_3_r3_12` (i.e., `HapMap_3_r3_12.fam`, `HapMap_3_r3_12.bed`, and `HapMap_3_r3_12.bim`)\n",
    "- indepSNP.prune.in"
   ]
  },
  {
   "cell_type": "code",
   "execution_count": null,
   "id": "a2cd6b7d",
   "metadata": {},
   "outputs": [],
   "source": []
  }
 ],
 "metadata": {
  "kernelspec": {
   "display_name": "Python 3 (ipykernel)",
   "language": "python",
   "name": "python3"
  },
  "language_info": {
   "codemirror_mode": {
    "name": "ipython",
    "version": 3
   },
   "file_extension": ".py",
   "mimetype": "text/x-python",
   "name": "python",
   "nbconvert_exporter": "python",
   "pygments_lexer": "ipython3",
   "version": "3.8.12"
  }
 },
 "nbformat": 4,
 "nbformat_minor": 5
}
