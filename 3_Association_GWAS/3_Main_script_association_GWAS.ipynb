{
 "cells": [
  {
   "cell_type": "markdown",
   "id": "d6e03805",
   "metadata": {},
   "source": [
    "# Explanation of the main script\n",
    "\n",
    "Just as with the previous tutorials, this tutorial can be completed simply by copy-and-pasting all commands from this 'main script' into the Unix terminal.\n",
    "\n",
    "For a theoretical background on these method we refer to the accompanying article entitled \"A tutorial on conducting Genome-Wide-Association Studies: Quality control and statistical analysis\" (https://www.ncbi.nlm.nih.gov/pubmed/29484742).\n",
    "\n",
    "In order to run this script you need the following files from the previous tutorial:\n",
    "- `covar_mds.txt` and\n",
    "- `HapMap_3_r3_13` (bfile, i.e., `HapMap_3_r3_13.bed`, `HapMap_3_r3_13.bim`, `HapMap_3_r3_13.fam`)."
   ]
  },
  {
   "cell_type": "markdown",
   "id": "116ff6a6",
   "metadata": {},
   "source": [
    "## Setup\n",
    "\n",
    "> **Author's note:** below is some setup code I need to make the notebook shine a bit more. Some imports and styling for the plots later on."
   ]
  },
  {
   "cell_type": "code",
   "execution_count": null,
   "id": "220c691d",
   "metadata": {},
   "outputs": [],
   "source": [
    "import matplotlib.pyplot as plt\n",
    "import numpy as np\n",
    "import pandas as pd\n",
    "from qmplot import manhattanplot, qqplot\n",
    "\n",
    "plt.style.use('ggplot')"
   ]
  },
  {
   "cell_type": "markdown",
   "id": "3be91cf0",
   "metadata": {},
   "source": [
    "## Association analyses\n",
    "\n",
    "For the association analyses we use the files generated in the previous tutorial (population stratification), named: `HapMap_3_r3_13` (with `.bed`, `.bim`, and `.fam`. extensions) and `covar_mds.txt`"
   ]
  },
  {
   "cell_type": "markdown",
   "id": "01b7c216",
   "metadata": {},
   "source": [
    "Copy the bfile HapMap_3_r3_13 from the previous tutorial to the current directory."
   ]
  },
  {
   "cell_type": "code",
   "execution_count": null,
   "id": "b511b46d",
   "metadata": {},
   "outputs": [],
   "source": [
    "!cp ../2_Population_stratification/HapMap_3_r3_13.* ."
   ]
  },
  {
   "cell_type": "markdown",
   "id": "6e415ff6",
   "metadata": {},
   "source": [
    "Copy the `covar_mds.txt` from the previous tutorial in the current directory."
   ]
  },
  {
   "cell_type": "code",
   "execution_count": null,
   "id": "6a34c654",
   "metadata": {},
   "outputs": [],
   "source": [
    "!cp ../2_Population_stratification/covar_mds.txt ."
   ]
  },
  {
   "cell_type": "markdown",
   "id": "82c5a54d",
   "metadata": {},
   "source": [
    "For binary traits."
   ]
  },
  {
   "cell_type": "markdown",
   "id": "3a5bd0c5",
   "metadata": {},
   "source": [
    "### assoc\n",
    "\n",
    "> **Author's note:** Info about the columns of the `.assoc` file can be found here https://www.cog-genomics.org/plink/1.9/formats#assoc"
   ]
  },
  {
   "cell_type": "code",
   "execution_count": null,
   "id": "d5b61e4c",
   "metadata": {},
   "outputs": [],
   "source": [
    "!plink --bfile HapMap_3_r3_13 --assoc --out assoc_results"
   ]
  },
  {
   "cell_type": "markdown",
   "id": "10f0c7de",
   "metadata": {},
   "source": [
    "Note, the `--assoc` option does not allow to correct covariates such as principal components (PC's)/ MDS components, which makes it less suited for association analyses."
   ]
  },
  {
   "cell_type": "markdown",
   "id": "f55570b8",
   "metadata": {},
   "source": [
    "### logistic\n",
    "\n",
    "We will be using 10 principal components as covariates in this logistic analysis. We use the MDS components calculated from the previous tutorial: `covar_mds.txt`.\n",
    "\n",
    "> **Author's note:** Info about the columns of the `.assoc.logistic` file can be found here https://www.cog-genomics.org/plink/1.9/formats#assoc_linear"
   ]
  },
  {
   "cell_type": "code",
   "execution_count": null,
   "id": "49b357ec",
   "metadata": {},
   "outputs": [],
   "source": [
    "!plink --bfile HapMap_3_r3_13 --covar covar_mds.txt --logistic hide-covar --out logistic_results"
   ]
  },
  {
   "cell_type": "markdown",
   "id": "cdb3aabe",
   "metadata": {},
   "source": [
    "Note, we use the option `--hide-covar` to only show the additive results of the SNPs in the output file."
   ]
  },
  {
   "cell_type": "markdown",
   "id": "eeca4dec",
   "metadata": {},
   "source": [
    "Remove NA values, those might give problems generating plots in later steps."
   ]
  },
  {
   "cell_type": "code",
   "execution_count": null,
   "id": "035393fc",
   "metadata": {},
   "outputs": [],
   "source": [
    "!awk '!/'NA'/' logistic_results.assoc.logistic > logistic_results.assoc_2.logistic"
   ]
  },
  {
   "cell_type": "markdown",
   "id": "4e8cb025",
   "metadata": {},
   "source": [
    "The results obtained from these GWAS analyses will be visualized in the last step. This will also show if the data set contains any genome-wide significant SNPs.\n",
    "\n",
    "Note, in case of a quantitative outcome measure the option `--logistic` should be replaced by `--linear`. The use of the `--assoc` option is also possible for quantitative outcome measures (as metioned previously, this option does not allow the use of covariates)."
   ]
  },
  {
   "cell_type": "markdown",
   "id": "a30b41c9",
   "metadata": {},
   "source": [
    "## Multiple testing\n",
    "\n",
    "There are various way to deal with multiple testing outside of the conventional genome-wide significance threshold of 5.0E-8, below we present a couple. "
   ]
  },
  {
   "cell_type": "markdown",
   "id": "bd05216c",
   "metadata": {},
   "source": [
    "### adjust"
   ]
  },
  {
   "cell_type": "code",
   "execution_count": null,
   "id": "667353c3",
   "metadata": {},
   "outputs": [],
   "source": [
    "!plink --bfile HapMap_3_r3_13 --assoc --adjust --out adjusted_assoc_results"
   ]
  },
  {
   "cell_type": "markdown",
   "id": "29da9791",
   "metadata": {},
   "source": [
    "This file gives a Bonferroni corrected _p_-value, along with FDR and others."
   ]
  },
  {
   "cell_type": "markdown",
   "id": "8a10ae9a",
   "metadata": {},
   "source": [
    "### Permutation\n",
    "\n",
    "This is a computational intensive step. Further pros and cons of this method, which can be used for association and dealing with multiple testing, are described in our article corresponding to this tutorial (https://www.ncbi.nlm.nih.gov/pubmed/29484742).\n",
    "\n",
    "_To_ reduce computational time we only perform this test on a subset of the SNPs from chromosome 22.\n",
    "\n",
    "The EMP2 collumn provides the for multiple testing corrected p-value."
   ]
  },
  {
   "cell_type": "markdown",
   "id": "4ce57af1",
   "metadata": {},
   "source": [
    "Generate subset of SNPs."
   ]
  },
  {
   "cell_type": "code",
   "execution_count": null,
   "id": "18f26ea3",
   "metadata": {},
   "outputs": [],
   "source": [
    "!awk '{ if ($4 >= 21595000 && $4 <= 21605000) print $2 }' HapMap_3_r3_13.bim > subset_snp_chr_22.txt"
   ]
  },
  {
   "cell_type": "markdown",
   "id": "01d60e0b",
   "metadata": {},
   "source": [
    "Filter your bfile based on the subset of SNPs generated in the step above."
   ]
  },
  {
   "cell_type": "code",
   "execution_count": null,
   "id": "42ec4779",
   "metadata": {},
   "outputs": [],
   "source": [
    "!plink --bfile HapMap_3_r3_13 --extract subset_snp_chr_22.txt --make-bed --out HapMap_subset_for_perm"
   ]
  },
  {
   "cell_type": "markdown",
   "id": "8aa807bd",
   "metadata": {},
   "source": [
    "Perform 1,000,000 _permutations_."
   ]
  },
  {
   "cell_type": "code",
   "execution_count": null,
   "id": "508aef14",
   "metadata": {},
   "outputs": [],
   "source": [
    "!plink --bfile HapMap_subset_for_perm --assoc --mperm 1000000 --out subset_1M_perm_result"
   ]
  },
  {
   "cell_type": "markdown",
   "id": "fbf7be82",
   "metadata": {},
   "source": [
    "Order your data, from lowest to highest _p_-value."
   ]
  },
  {
   "cell_type": "code",
   "execution_count": null,
   "id": "99416472",
   "metadata": {},
   "outputs": [],
   "source": [
    "!sort -gk 4 subset_1M_perm_result.assoc.mperm > sorted_subset.txt"
   ]
  },
  {
   "cell_type": "markdown",
   "id": "f7c99217",
   "metadata": {},
   "source": [
    "Check ordered permutation results."
   ]
  },
  {
   "cell_type": "code",
   "execution_count": null,
   "id": "9c0bb08f",
   "metadata": {},
   "outputs": [],
   "source": [
    "!head sorted_subset.txt"
   ]
  },
  {
   "cell_type": "markdown",
   "id": "c0542fb1",
   "metadata": {},
   "source": [
    "## Generate Manhattan and QQ plots"
   ]
  },
  {
   "cell_type": "code",
   "execution_count": null,
   "id": "5963f36c",
   "metadata": {},
   "outputs": [],
   "source": [
    "results_log = pd.read_csv('logistic_results.assoc_2.logistic', sep='\\s+')\n",
    "\n",
    "fig, ax = plt.subplots(1, 1, figsize=(15, 5))\n",
    "manhattanplot(results_log, chrom='CHR', pos='BP', snp='SNP', ax=ax)\n",
    "ax.set_title('Manhattan plot: logistic')"
   ]
  },
  {
   "cell_type": "code",
   "execution_count": null,
   "id": "350c2f95",
   "metadata": {},
   "outputs": [],
   "source": [
    "results_as = pd.read_csv('assoc_results.assoc', sep='\\s+')\n",
    "\n",
    "fig, ax = plt.subplots(1, 1, figsize=(15, 5))\n",
    "qqplot(results_as['P'], ax=ax)"
   ]
  },
  {
   "cell_type": "markdown",
   "id": "a35f7bfb",
   "metadata": {},
   "source": [
    "---"
   ]
  },
  {
   "cell_type": "markdown",
   "id": "094e525a",
   "metadata": {},
   "source": [
    "## Congratulations\n",
    "\n",
    "You have succesfully conducted a GWAS _analysis_!\n",
    "\n",
    "If you are also interested in learning how to conduct a polygenic risk score (PRS) analysis please see our fourth tutorial.\n",
    "\n",
    "The tutorial explaining PRS is independent from the previous tutorials."
   ]
  },
  {
   "cell_type": "code",
   "execution_count": null,
   "id": "b0aa9b46",
   "metadata": {},
   "outputs": [],
   "source": []
  }
 ],
 "metadata": {
  "kernelspec": {
   "display_name": "Python 3 (ipykernel)",
   "language": "python",
   "name": "python3"
  },
  "language_info": {
   "codemirror_mode": {
    "name": "ipython",
    "version": 3
   },
   "file_extension": ".py",
   "mimetype": "text/x-python",
   "name": "python",
   "nbconvert_exporter": "python",
   "pygments_lexer": "ipython3",
   "version": "3.8.12"
  }
 },
 "nbformat": 4,
 "nbformat_minor": 5
}
