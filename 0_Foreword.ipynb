{
 "cells": [
  {
   "cell_type": "markdown",
   "metadata": {},
   "source": [
    "# Foreword\n",
    "\n",
    "This GWAS tutorial is adapted from the amazing tutorial by [Andries Matees](https://github.com/MareesAT) called [GWA_Tutorial](https://github.com/MareesAT/GWA_tutorial). As a newcomer to the field of GWAS, I was overwhelmed by the tools used, the different (and -- sometimes -- headers-deficient) file formats, and the volume of files I generate throughout the ordeal.\n",
    "\n",
    "While working through the original tutorial, I found that it was a prime candidate for a re-implementation in a Jupyter notebook packaged in a Docker container with Anaconda/Mamba. Here are some of the reasons why:\n",
    "\n",
    "1. Release a tutorial in a batteries-included package.\n",
    "    - <span style=\"color: #48c774\">**Pros:**</span>\n",
    "        - Most people don't use Linux and GWAS commands are built on Linux and run on the shell. Docker let's them have a \"Linux machine\" to work on without much difficulty.\n",
    "        - Downloading and installing a tool can be tedious and confusing. What if a user needs an extra bit of tool? Conda/Mamba takes care of most things with the `bioconda` channel.\n",
    "        - It removes so much more bootstrapping: for example, having the wrong PLINK version, R is not installed etc. Everything is packaged in a Docker container that just let's you run through the entire thing with no friction.\n",
    "    - <span style=\"color: #ff3860\">**Cons:**</span>\n",
    "        - Storage use. Hoo boy! This Docker container is hefty! If you didn't run with `--rm` in Docker, you're going to wish you did.\n",
    "        - A little tricky to transfer output files from the Docker to the host folder but it's possible.\n",
    "\n",
    "\n",
    "2. One workspace to rule them all\n",
    "    - <span style=\"color: #48c774\">**Pros:**</span>\n",
    "        - Explain and run the pipeline in the notebook. We can easily make Markdown text cells and code cells while having all the visual benefits of HTML rendering.\n",
    "        - The original tutorial had you open PDFs, raw text files, etc. Jupyter notebooks can view those charts, contents of files (reasonably) and run any Linux command from the comfort of the notebook.\n",
    "        - No more dependence on R! `pandas` and `matplotlib` will get your job done, and they will stay in this notebook.\n",
    "        - Minimize changing folders and all that jazz.\n",
    "    - <span style=\"color: #ff3860\">**Cons:**</span>\n",
    "        - Learning curve of a Jupyter notebook. Unless you're proficient with Python and know your ways around a notebook, it's going to be confusing.\n",
    "\n",
    "\n",
    "3. Updating old syntax and misspellings\n",
    "    - <span style=\"color: #48c774\">**Pros:**</span>\n",
    "        - Some parts of the pipeline doesn't work for newer versions of PLINK. My aim is to keep this project updated so that newer versions of PLINK (at least v1.90bXX) will work on the whole thing.\n",
    "    - <span style=\"color: #ff3860\">**Cons:**</span>\n",
    "        - Can't think of any! 😅\n",
    "\n",
    "\n",
    "We can customize these notebooks quite easily too, substituting for PLINK 2.0 or adding any other stuff on top of it.\n",
    "\n",
    "**Note:** Most of the stuff here is almost a carbon copy of the MareesAT GitHub GWA_Tutorial repository. Please check his original work: it has really helped me understand how to approach GWAS properly coming from a CS background and little biology. I have included my personal notes (called author's notes) that really helped me understand the outputs of each stage in the pipeline. To differentiate the original text and authors note, I just place notes as a blockquote. Looks something like\n",
    "\n",
    "> this."
   ]
  },
  {
   "cell_type": "markdown",
   "metadata": {},
   "source": []
  }
 ],
 "metadata": {
  "language_info": {
   "name": "plaintext"
  },
  "orig_nbformat": 4
 },
 "nbformat": 4,
 "nbformat_minor": 2
}
